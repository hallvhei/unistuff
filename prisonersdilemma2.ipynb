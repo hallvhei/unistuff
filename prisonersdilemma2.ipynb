{
 "cells": [
  {
   "cell_type": "code",
   "execution_count": 4,
   "metadata": {
    "collapsed": true
   },
   "outputs": [],
   "source": [
    "import random as rnd\n",
    "from prisonerClasses import Player\n",
    "\n",
    "def Payoff(player1_choice, player2_choice):\n",
    "    \n",
    "    ###############################################################################################################\n",
    "    ### FUNCTION DESIGNED TO PLAY PRISONERS DILEMMA https://en.wikipedia.org/wiki/Prisoner%27s_dilemma          ###\n",
    "    ### THIS ENTIRE FUNCTION IS DESIGNED TO RUN BEHIND THE SCENES; FANCY CODE IS ALLOWED AS LONG AS PREMISES OF ###\n",
    "    ### PRISONERS DILEMMA ARE CONSERVED.                                                                        ###\n",
    "    ###############################################################################################################\n",
    "    \n",
    "    import time\n",
    "    time.sleep(0.5)\n",
    "    \n",
    "    ### Infers conceptual choice of players and checks for errors                                               ###\n",
    "    ### 0 is cooperation, 1 is defection                                                                        ###\n",
    "    if player1_choice == 0:\n",
    "        print (\"Player 1 cooperates!\")\n",
    "    elif player1_choice == 1:\n",
    "        print(\"Player 1 defects!\")\n",
    "    else:\n",
    "        print(\"Invalid value provided for Player 1\")\n",
    "        return\n",
    "               \n",
    "    if player2_choice == 0:\n",
    "        print (\"Player 2 cooperates!\")\n",
    "    elif player2_choice == 1:\n",
    "        print(\"Player 2 defects!\")\n",
    "    else:\n",
    "        print(\"Invalid value provided for Player 2\")\n",
    "        return\n",
    "    \n",
    "    ### Establishes payoff matrix ###\n",
    "    #payoffs = [[[-1, -1], [0, -3]],[[-3, 0], [-2, -2]]] ### ALTERNATIVE PAYOFF MATRIX USING NEGATIVES / 10\n",
    "    \n",
    "    payoffs = [[[20, 20], [30, 0]],[[0, 30], [10, 10]]]  ### ALTERNATIVE PAYOFF MATRIX USING POSITIVES\n",
    "    \n",
    "    ### Creates and assigns score to new variable for each player ###\n",
    "    player1_score = payoffs[player1_choice][player2_choice][1]\n",
    "    player2_score = payoffs[player1_choice][player2_choice][0]\n",
    "    \n",
    "    ### Prints score for each player for the current round ###\n",
    "    print(\"Player 1 score:\", player1_score)\n",
    "    print(\"Player 2 score:\", player2_score)\n",
    "    print(\"\")\n",
    "    \n",
    "    ### Returns both the choices of each player and the score of each player. The choice is returned in order to make\n",
    "    ### the design of a responsive algorithm easier, removing the need to infer the choice from received score\n",
    "    return (player1_score, player2_score)\n"
   ]
  },
  {
   "cell_type": "code",
   "execution_count": 5,
   "metadata": {
    "collapsed": true
   },
   "outputs": [],
   "source": [
    "scores = {\"cooperator\": 0, \"defector\": 0, \"randomy\": 0, \"opposite\": 0, \"mefirst\": 0, \"happyflop\": 0, \"angryflop\": 0}"
   ]
  },
  {
   "cell_type": "code",
   "execution_count": 8,
   "metadata": {},
   "outputs": [
    {
     "name": "stdout",
     "output_type": "stream",
     "text": [
      "Input strategy of player 1: randomy\n",
      "Input strategy of player 2: angryflop\n",
      "Randomy chosen\n",
      "AngryFlop chosen!\n",
      "Player 1 defects!\n",
      "Player 2 defects!\n",
      "Player 1 score: 10\n",
      "Player 2 score: 10\n",
      "\n",
      "Player 1 cooperates!\n",
      "Player 2 cooperates!\n",
      "Player 1 score: 20\n",
      "Player 2 score: 20\n",
      "\n",
      "Player 1 cooperates!\n",
      "Player 2 defects!\n",
      "Player 1 score: 0\n",
      "Player 2 score: 30\n",
      "\n",
      "Player 1 defects!\n",
      "Player 2 cooperates!\n",
      "Player 1 score: 30\n",
      "Player 2 score: 0\n",
      "\n",
      "Player 1 defects!\n",
      "Player 2 defects!\n",
      "Player 1 score: 10\n",
      "Player 2 score: 10\n",
      "\n",
      "Player 1 defects!\n",
      "Player 2 cooperates!\n",
      "Player 1 score: 30\n",
      "Player 2 score: 0\n",
      "\n",
      "Player 1 defects!\n",
      "Player 2 defects!\n",
      "Player 1 score: 10\n",
      "Player 2 score: 10\n",
      "\n",
      "Player 1 defects!\n",
      "Player 2 cooperates!\n",
      "Player 1 score: 30\n",
      "Player 2 score: 0\n",
      "\n",
      "Player 1 defects!\n",
      "Player 2 defects!\n",
      "Player 1 score: 10\n",
      "Player 2 score: 10\n",
      "\n",
      "Player 1 defects!\n",
      "Player 2 cooperates!\n",
      "Player 1 score: 30\n",
      "Player 2 score: 0\n",
      "\n",
      "Player 1 Randomy total 180\n",
      "Player 2 Angryflop total 90\n",
      "All games: [[1, 0, 0, 1, 1, 1, 1, 1, 1, 1], [1, 0, 1, 0, 1, 0, 1, 0, 1, 0]]\n"
     ]
    }
   ],
   "source": [
    "player1_total = 0\n",
    "player2_total = 0\n",
    "\n",
    "name1 = str(input(\"Input strategy of player 1: \"))\n",
    "name1 = name1.lower()\n",
    "name2 = str(input(\"Input strategy of player 2: \"))\n",
    "name2 = name2.lower()\n",
    "\n",
    "player1 = Player(name1)\n",
    "player2 = Player(name2)\n",
    "\n",
    "all_choices = [[],[]]\n",
    "\n",
    "player1_prev_choice = None\n",
    "player2_prev_choice = None\n",
    "\n",
    "for i in range(10):\n",
    "    player1_send = player1.Play(all_choices, 0, i)\n",
    "    player2_send = player2.Play(all_choices, 1, i)\n",
    "    \n",
    "    if player1_send == 3:\n",
    "        print(\"Player 1 reported an error\")\n",
    "        continue\n",
    "    if player2_send == 3:\n",
    "        print(\"Player 2 reported an error\")\n",
    "        continue\n",
    "        \n",
    "    player1_rec, player2_rec = Payoff(player1_send, player2_send)\n",
    "    \n",
    "    all_choices[0].append(player1_send)\n",
    "    all_choices[1].append(player2_send)\n",
    "    \n",
    "    player1_total += player1_rec\n",
    "    player2_total += player2_rec\n",
    "    \n",
    "    \n",
    "print(\"Player 1 %s total %i\\nPlayer 2 %s total %i\" % (name1.capitalize(), player1_total, name2.capitalize(), player2_total))\n",
    "print(\"All games: %s\" % all_choices)\n",
    "scores[name1] += player1_total\n",
    "scores[name2] += player2_total"
   ]
  },
  {
   "cell_type": "code",
   "execution_count": 9,
   "metadata": {},
   "outputs": [
    {
     "data": {
      "text/plain": [
       "{'angryflop': 90,\n",
       " 'cooperator': 0,\n",
       " 'defector': 0,\n",
       " 'happyflop': 0,\n",
       " 'mefirst': 0,\n",
       " 'opposite': 170,\n",
       " 'randomy': 320}"
      ]
     },
     "execution_count": 9,
     "metadata": {},
     "output_type": "execute_result"
    }
   ],
   "source": [
    "scores"
   ]
  },
  {
   "cell_type": "markdown",
   "metadata": {},
   "source": [
    "### Conditions: ###\n",
    "\n",
    "* The code must be written as a function\n",
    "* The function must match the provided prototype, accepting the exact arguments given\n",
    "* The function must handle both starting as player 1 and as player 2 and subsequent play\n",
    "* No global variables are allowed\n",
    "* The function must return the integer 0 or 1, and nothing else\n",
    " \n",
    "Prototype:\n",
    "def func(previous_games, player_number, round):\n",
    "    # some code handling the input and deciding on output\n",
    "      'previous_games' is a nested list of all previous choices in the same round of games\n",
    "      previous_games[0][i] is the choice of player 1 in game i, whereas\n",
    "      previous_games[1][i] is the choice of player 2 in game i\n",
    "      player_number is an integer 0 or 1 telling the function whether it plays as \n",
    "      player 1 or player 2, respectively\n",
    "      The 'round' variable starts at 0 and tells the function which round is currently being played.\n",
    "      \n",
    "    return my_decision"
   ]
  },
  {
   "cell_type": "code",
   "execution_count": null,
   "metadata": {},
   "outputs": [],
   "source": [
    "dir(\"hey\")"
   ]
  },
  {
   "cell_type": "code",
   "execution_count": null,
   "metadata": {
    "collapsed": true
   },
   "outputs": [],
   "source": []
  },
  {
   "cell_type": "code",
   "execution_count": null,
   "metadata": {
    "collapsed": true
   },
   "outputs": [],
   "source": [
    "print(a)"
   ]
  },
  {
   "cell_type": "code",
   "execution_count": null,
   "metadata": {
    "collapsed": true
   },
   "outputs": [],
   "source": [
    "if a == None:\n",
    "    print(\"Hey hey!\")"
   ]
  },
  {
   "cell_type": "code",
   "execution_count": null,
   "metadata": {},
   "outputs": [],
   "source": [
    "print(\"WhAt iS uP\".lower())"
   ]
  },
  {
   "cell_type": "code",
   "execution_count": null,
   "metadata": {
    "scrolled": true
   },
   "outputs": [],
   "source": [
    "dir(\"s\")"
   ]
  },
  {
   "cell_type": "code",
   "execution_count": null,
   "metadata": {
    "collapsed": true
   },
   "outputs": [],
   "source": []
  },
  {
   "cell_type": "code",
   "execution_count": null,
   "metadata": {
    "collapsed": true
   },
   "outputs": [],
   "source": []
  },
  {
   "cell_type": "code",
   "execution_count": null,
   "metadata": {},
   "outputs": [],
   "source": [
    "%whos"
   ]
  },
  {
   "cell_type": "code",
   "execution_count": null,
   "metadata": {
    "collapsed": true
   },
   "outputs": [],
   "source": []
  }
 ],
 "metadata": {
  "kernelspec": {
   "display_name": "Python 3",
   "language": "python",
   "name": "python3"
  },
  "language_info": {
   "codemirror_mode": {
    "name": "ipython",
    "version": 3
   },
   "file_extension": ".py",
   "mimetype": "text/x-python",
   "name": "python",
   "nbconvert_exporter": "python",
   "pygments_lexer": "ipython3",
   "version": "3.6.1"
  }
 },
 "nbformat": 4,
 "nbformat_minor": 2
}
