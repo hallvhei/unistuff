{
 "cells": [
  {
   "cell_type": "code",
   "execution_count": 37,
   "metadata": {},
   "outputs": [],
   "source": [
    "def payoff(player1_choice, player2_choice):\n",
    "    \n",
    "    ### FUNCTION DESIGNED TO PLAY PRISONERS DILEMMA https://en.wikipedia.org/wiki/Prisoner%27s_dilemma          ###\n",
    "    ### THIS ENTIRE FUNCTION IS DESIGNED TO RUN BEHIND THE SCENES; FANCY CODE IS ALLOWED AS LONG AS PREMISES OF ###\n",
    "    ### PRISONERS DILEMMA ARE CONSERVED.                                                                        ###\n",
    "    \n",
    "    ### Infers conceptual choice of players and checks for errors                                               ###\n",
    "    ### 0 is cooperation, 1 is defection                                                                        ###\n",
    "    \n",
    "    if player1_choice == 0:\n",
    "        print (\"Player 1 cooperates!\")\n",
    "    elif player1_choice == 1:\n",
    "        print(\"Player 1 defects!\")\n",
    "    else:\n",
    "        print(\"Invalid value provided for Player 1\")\n",
    "        return\n",
    "               \n",
    "    if player2_choice == 0:\n",
    "        print (\"Player 2 cooperates!\")\n",
    "    elif player2_choice == 1:\n",
    "        print(\"Player 2 defects!\")\n",
    "    else:\n",
    "        print(\"Invalid value provided for Player 2\")\n",
    "        return\n",
    "    \n",
    "    ### Establishes payoff matrix ###\n",
    "    payoffs = [[[-1, -1], [0, -3]],[[-3, 0], [-2, -2]]]\n",
    "    \n",
    "    ### Creates and assigns score to new variable for each player ###\n",
    "    player1_score = payoffs[player1_choice][player2_choice][1]\n",
    "    player2_score = payoffs[player1_choice][player2_choice][0]\n",
    "    \n",
    "    ### Prints score for each player for the current round ###\n",
    "    print(\"Player 1 score:\", player1_score)\n",
    "    print(\"Player 2 score:\", player2_score)\n",
    "    \n",
    "    \"\"\" Returns both the choices of each player and the score of each player. The choice is returned in order to make\n",
    "    the design of a responsive algorithm easier, removing the need to infer the choice from received score\"\"\"\n",
    "    return(player1_choice, player2_choice, player1_score, player2_score)\n"
   ]
  },
  {
   "cell_type": "code",
   "execution_count": 42,
   "metadata": {},
   "outputs": [
    {
     "name": "stdout",
     "output_type": "stream",
     "text": [
      "Invalid value provided for player 1\n",
      "None\n"
     ]
    }
   ],
   "source": [
    "print(payoff(2,1))"
   ]
  },
  {
   "cell_type": "code",
   "execution_count": 38,
   "metadata": {},
   "outputs": [
    {
     "data": {
      "text/plain": [
       "[0, -3]"
      ]
     },
     "execution_count": 38,
     "metadata": {},
     "output_type": "execute_result"
    }
   ],
   "source": [
    "payoffs[0][1]"
   ]
  },
  {
   "cell_type": "code",
   "execution_count": null,
   "metadata": {
    "collapsed": true
   },
   "outputs": [],
   "source": []
  }
 ],
 "metadata": {
  "kernelspec": {
   "display_name": "Python 3",
   "language": "python",
   "name": "python3"
  },
  "language_info": {
   "codemirror_mode": {
    "name": "ipython",
    "version": 3
   },
   "file_extension": ".py",
   "mimetype": "text/x-python",
   "name": "python",
   "nbconvert_exporter": "python",
   "pygments_lexer": "ipython3",
   "version": "3.6.1"
  }
 },
 "nbformat": 4,
 "nbformat_minor": 2
}
