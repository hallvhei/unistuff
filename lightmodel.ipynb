{
 "cells": [
  {
   "cell_type": "code",
   "execution_count": 1,
   "metadata": {
    "collapsed": true
   },
   "outputs": [],
   "source": [
    "from pylab import *"
   ]
  },
  {
   "cell_type": "code",
   "execution_count": 5,
   "metadata": {
    "collapsed": true
   },
   "outputs": [],
   "source": [
    "grid = zeros([20,20])"
   ]
  },
  {
   "cell_type": "code",
   "execution_count": 36,
   "metadata": {
    "collapsed": true
   },
   "outputs": [],
   "source": [
    "grid[:,:] = 0"
   ]
  },
  {
   "cell_type": "code",
   "execution_count": 39,
   "metadata": {},
   "outputs": [
    {
     "name": "stdout",
     "output_type": "stream",
     "text": [
      "Input value\n"
     ]
    },
    {
     "ename": "ValueError",
     "evalue": "invalid literal for int() with base 10: ''",
     "output_type": "error",
     "traceback": [
      "\u001b[0;31m---------------------------------------------------------------------------\u001b[0m",
      "\u001b[0;31mValueError\u001b[0m                                Traceback (most recent call last)",
      "\u001b[0;32m<ipython-input-39-ddbc3373634a>\u001b[0m in \u001b[0;36m<module>\u001b[0;34m()\u001b[0m\n\u001b[0;32m----> 1\u001b[0;31m \u001b[0mstimulus\u001b[0m \u001b[0;34m=\u001b[0m \u001b[0mint\u001b[0m\u001b[0;34m(\u001b[0m\u001b[0minput\u001b[0m\u001b[0;34m(\u001b[0m\u001b[0;34m\"Input value\"\u001b[0m\u001b[0;34m)\u001b[0m\u001b[0;34m)\u001b[0m\u001b[0;34m\u001b[0m\u001b[0m\n\u001b[0m\u001b[1;32m      2\u001b[0m \u001b[0mstimulus_x_location\u001b[0m \u001b[0;34m=\u001b[0m \u001b[0mint\u001b[0m\u001b[0;34m(\u001b[0m\u001b[0minput\u001b[0m\u001b[0;34m(\u001b[0m\u001b[0;34m\"Input location\"\u001b[0m\u001b[0;34m)\u001b[0m\u001b[0;34m)\u001b[0m\u001b[0;34m\u001b[0m\u001b[0m\n\u001b[1;32m      3\u001b[0m \u001b[0mstimulus_y_location\u001b[0m \u001b[0;34m=\u001b[0m \u001b[0mint\u001b[0m\u001b[0;34m(\u001b[0m\u001b[0minput\u001b[0m\u001b[0;34m(\u001b[0m\u001b[0;34m\"Input location\"\u001b[0m\u001b[0;34m)\u001b[0m\u001b[0;34m)\u001b[0m\u001b[0;34m\u001b[0m\u001b[0m\n\u001b[1;32m      4\u001b[0m \u001b[0mgrid\u001b[0m\u001b[0;34m[\u001b[0m\u001b[0mstimulus_x_location\u001b[0m\u001b[0;34m,\u001b[0m \u001b[0mstimulus_y_location\u001b[0m\u001b[0;34m]\u001b[0m \u001b[0;34m=\u001b[0m \u001b[0mstimulus\u001b[0m\u001b[0;34m\u001b[0m\u001b[0m\n\u001b[1;32m      5\u001b[0m \u001b[0;34m\u001b[0m\u001b[0m\n",
      "\u001b[0;31mValueError\u001b[0m: invalid literal for int() with base 10: ''"
     ]
    }
   ],
   "source": [
    "stimulus = int(input(\"Input value\"))\n",
    "stimulus_x_location = int(input(\"Input location\"))\n",
    "stimulus_y_location = int(input(\"Input location\"))\n",
    "grid[stimulus_x_location, stimulus_y_location] = stimulus\n",
    "\n",
    "grid[stimulus_x_location-1, stimulus_y_location] = stimulus/2\n",
    "grid[stimulus_x_location+1, stimulus_y_location] = stimulus/2\n",
    "grid[stimulus_x_location, stimulus_y_location+1] = stimulus/2\n",
    "grid[stimulus_x_location, stimulus_y_location-1] = stimulus/2\n",
    "grid[stimulus_x_location-1, stimulus_y_location-1] = stimulus/3\n",
    "grid[stimulus_x_location-1, stimulus_y_location+1] = stimulus/3\n",
    "grid[stimulus_x_location+1, stimulus_y_location-1] = stimulus/3\n",
    "grid[stimulus_x_location+1, stimulus_y_location+1] = stimulus/3"
   ]
  },
  {
   "cell_type": "code",
   "execution_count": 45,
   "metadata": {},
   "outputs": [
    {
     "name": "stdout",
     "output_type": "stream",
     "text": [
      "7.33333333333\n",
      "x: 14 y: 14\n",
      "11.0\n",
      "x: 15 y: 14\n",
      "7.33333333333\n",
      "x: 16 y: 14\n",
      "11.0\n",
      "x: 14 y: 15\n",
      "22.0\n",
      "x: 15 y: 15\n",
      "11.0\n",
      "x: 16 y: 15\n",
      "7.33333333333\n",
      "x: 14 y: 16\n",
      "11.0\n",
      "x: 15 y: 16\n",
      "7.33333333333\n",
      "x: 16 y: 16\n"
     ]
    }
   ],
   "source": [
    "y = 0\n",
    "x = 0\n",
    "for row in(grid):\n",
    "    x = 0\n",
    "    for value in (row):\n",
    "        if value >= 4:\n",
    "            print(value)\n",
    "            print(\"x: {} y: {}\".format(x, y))\n",
    "        x += 1\n",
    "    y += 1\n"
   ]
  },
  {
   "cell_type": "code",
   "execution_count": 38,
   "metadata": {},
   "outputs": [
    {
     "data": {
      "image/png": "[encoded data removed]",
      "text/plain": [
       "<matplotlib.figure.Figure at 0x10b960198>"
      ]
     },
     "metadata": {},
     "output_type": "display_data"
    }
   ],
   "source": [
    "plt.imshow(grid, cmap='plasma', interpolation='None', vmin = 0, vmax= 30)\n",
    "plt.show()"
   ]
  },
  {
   "cell_type": "code",
   "execution_count": null,
   "metadata": {
    "collapsed": true
   },
   "outputs": [],
   "source": []
  }
 ],
 "metadata": {
  "kernelspec": {
   "display_name": "Python 3",
   "language": "python",
   "name": "python3"
  },
  "language_info": {
   "codemirror_mode": {
    "name": "ipython",
    "version": 3
   },
   "file_extension": ".py",
   "mimetype": "text/x-python",
   "name": "python",
   "nbconvert_exporter": "python",
   "pygments_lexer": "ipython3",
   "version": "3.6.1"
  }
 },
 "nbformat": 4,
 "nbformat_minor": 2
}
