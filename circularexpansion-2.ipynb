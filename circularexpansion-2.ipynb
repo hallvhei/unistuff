{
 "cells": [
  {
   "cell_type": "code",
   "execution_count": 5,
   "metadata": {
    "collapsed": true
   },
   "outputs": [],
   "source": [
    "from pylab import *\n",
    "grid = zeros([50,50])\n",
    "inertia = zeros([50,50])"
   ]
  },
  {
   "cell_type": "code",
   "execution_count": 171,
   "metadata": {},
   "outputs": [
    {
     "data": {
      "image/png": "[encoded data removed]",
      "text/plain": [
       "<matplotlib.figure.Figure at 0x10f862c50>"
      ]
     },
     "metadata": {},
     "output_type": "display_data"
    },
    {
     "data": {
      "image/png": "[encoded data removed]",
      "text/plain": [
       "<matplotlib.figure.Figure at 0x10f7d5c88>"
      ]
     },
     "metadata": {},
     "output_type": "display_data"
    }
   ],
   "source": [
    "#grid[:,:] = 0\n",
    "inertia[:,:] = 0\n",
    "\n",
    "###\n",
    "decay_factor = 1.4\n",
    "lateral_decay_factor = decay_factor * 1.1\n",
    "###\n",
    "\n",
    "#stimulus = int(input(\"Input value\"))\n",
    "#stim_x = int(input(\"Input location\"))\n",
    "#stim_y = int(input(\"Input location\"))\n",
    "\n",
    "stimulus = 100\n",
    "stim_y = 15\n",
    "stim_x = 15\n",
    "\n",
    "grid[stim_y, stim_x] += stimulus\n",
    "inertia[stim_y, stim_x] = 1\n",
    "stimulus = stimulus / decay_factor\n",
    "offset = 1\n",
    "iterator = 1\n",
    "while stimulus > 1:\n",
    "    for x in range(-1,2,2):\n",
    "        \n",
    "        for y in range(-1,2,2):\n",
    "            #print(\"offset\", offset)\n",
    "            grid[stim_y+(y*offset)][stim_x] = stimulus\n",
    "            grid[stim_y][stim_x+(x*offset)] = stimulus\n",
    "            \n",
    "            inertia[stim_y+(y*offset)][stim_x] = stimulus\n",
    "            inertia[stim_y][stim_x+(x*offset)] = stimulus\n",
    "            \n",
    "         \n",
    "            \n",
    "            lateral_stimulus = stimulus / 2\n",
    "            lateral_offset = 1\n",
    "            for j in range(-1,2,1):\n",
    "                while lateral_stimulus > 1:\n",
    "                    \n",
    "                    ### X-wrapping\n",
    "                    grid[stim_y+(y*offset)][stim_x+(lateral_offset)] = lateral_stimulus\n",
    "                    grid[stim_y+(y*offset)][stim_x+(lateral_offset)*-1] = lateral_stimulus\n",
    "                    \n",
    "                    ### Y-wrapping\n",
    "                    grid[stim_y+(lateral_offset)][stim_x+(x*offset)] = lateral_stimulus\n",
    "                    grid[stim_y+(lateral_offset)*-1][stim_x+(x*offset)] = lateral_stimulus\n",
    "                    \n",
    "                    ### Binarize x\n",
    "                    inertia[stim_y+(y*offset)][stim_x+lateral_offset] = lateral_stimulus\n",
    "                    inertia[stim_y+(y*offset)][stim_x+lateral_offset*-1] = lateral_stimulus\n",
    "                    ### Binarize y\n",
    "                    inertia[stim_y+(lateral_offset)][stim_x+(x*offset)] = lateral_stimulus\n",
    "                    inertia[stim_y+(lateral_offset)*-1][stim_x+(x*offset)] = lateral_stimulus\n",
    "                    \n",
    "                    lateral_stimulus /= lateral_decay_factor\n",
    "                    lateral_offset += 1\n",
    "            \n",
    "        \n",
    "    stimulus /= decay_factor\n",
    "    offset += 1\n",
    "\n",
    "\n",
    "\n",
    "\n",
    "\n",
    "    \n",
    "plt.imshow(grid, cmap='plasma', interpolation='None', vmin = 0, vmax= 100)\n",
    "plt.show()\n",
    "plt.imshow(inertia, cmap='binary', interpolation='None', vmin=0, vmax=1)\n",
    "plt.show()\n",
    "\n"
   ]
  },
  {
   "cell_type": "markdown",
   "metadata": {},
   "source": [
    "grid[:,:] = 0\n",
    "inertia[:,:] = 0\n",
    "\n",
    "###\n",
    "decay_factor = 1.5\n",
    "lateral_decay_factor = decay_factor\n",
    "###\n",
    "\n",
    "#stimulus = int(input(\"Input value\"))\n",
    "#stim_x = int(input(\"Input location\"))\n",
    "#stim_y = int(input(\"Input location\"))\n",
    "\n",
    "stimulus = 30\n",
    "stim_y = 15\n",
    "stim_x = 20\n",
    "\n",
    "\n",
    "if stimulus > 30:\n",
    "    stimulus = 30\n",
    "print(stimulus)\n",
    "\n",
    "grid[stim_y, stim_x] += stimulus\n",
    "inertia[stim_y, stim_x] = 1\n",
    "stimulus = stimulus / decay_factor\n",
    "offset = 1\n",
    "iterator = 1\n",
    "while stimulus > 1:\n",
    "    for x in range(-1,2,2):\n",
    "        \n",
    "        for y in range(-1,2,2):\n",
    "\n",
    "            grid[stim_y+(y*offset)][stim_x] = stimulus\n",
    "            inertia[stim_y+(y*offset)][stim_x] = stimulus\n",
    "            \n",
    "         \n",
    "            \n",
    "            lateral_stimulus = stimulus / 2\n",
    "            lateral_offset = 1\n",
    "            for j in range(-1,2,1):\n",
    "                while lateral_stimulus > 1:\n",
    "                    grid[stim_y+(y*offset)][stim_x+(lateral_offset)] = lateral_stimulus\n",
    "                    grid[stim_y+(y*offset)][stim_x+(lateral_offset)*-1] = lateral_stimulus\n",
    "                    inertia[stim_y+(y*offset)][stim_x+lateral_offset] = lateral_stimulus\n",
    "                    inertia[stim_y+(y*offset)][stim_x+lateral_offset*-1] = lateral_stimulus\n",
    "                    lateral_stimulus /= lateral_decay_factor\n",
    "                    lateral_offset += 1\n",
    "\n",
    "            \n",
    "        \n",
    "    stimulus /= decay_factor\n",
    "    offset += 1\n",
    "\n",
    "\n",
    "\n",
    "\n",
    "\n",
    "    \n",
    "plt.imshow(grid, cmap='plasma', interpolation='None', vmin = 0, vmax= 30)\n",
    "plt.show()\n",
    "plt.imshow(inertia, cmap='binary', interpolation='None', vmin=0, vmax=1)\n",
    "plt.show()\n",
    "\n",
    "\n"
   ]
  }
 ],
 "metadata": {
  "kernelspec": {
   "display_name": "Python 3",
   "language": "python",
   "name": "python3"
  },
  "language_info": {
   "codemirror_mode": {
    "name": "ipython",
    "version": 3
   },
   "file_extension": ".py",
   "mimetype": "text/x-python",
   "name": "python",
   "nbconvert_exporter": "python",
   "pygments_lexer": "ipython3",
   "version": "3.6.1"
  }
 },
 "nbformat": 4,
 "nbformat_minor": 2
}
