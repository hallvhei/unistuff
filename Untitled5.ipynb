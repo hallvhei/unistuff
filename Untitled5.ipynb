{
 "cells": [
  {
   "cell_type": "code",
   "execution_count": 26,
   "metadata": {},
   "outputs": [],
   "source": [
    "def MinFunksjon(a,b):\n",
    "    if a == 0:\n",
    "        global l\n",
    "        l = []\n",
    "    l.append(a+13*a)\n",
    "    print(l)\n",
    "    return"
   ]
  },
  {
   "cell_type": "code",
   "execution_count": 27,
   "metadata": {},
   "outputs": [
    {
     "name": "stdout",
     "output_type": "stream",
     "text": [
      "[0]\n",
      "[0, 14]\n",
      "[0, 14, 28]\n",
      "[0, 14, 28, 42]\n",
      "[0, 14, 28, 42, 56]\n",
      "[0, 14, 28, 42, 56, 70]\n",
      "[0, 14, 28, 42, 56, 70, 84]\n",
      "[0, 14, 28, 42, 56, 70, 84, 98]\n",
      "[0, 14, 28, 42, 56, 70, 84, 98, 112]\n",
      "[0, 14, 28, 42, 56, 70, 84, 98, 112, 126]\n"
     ]
    }
   ],
   "source": [
    "for i in range(10):\n",
    "    MinFunksjon(i, 1)"
   ]
  },
  {
   "cell_type": "code",
   "execution_count": 30,
   "metadata": {},
   "outputs": [
    {
     "name": "stdout",
     "output_type": "stream",
     "text": [
      "a exists\n"
     ]
    }
   ],
   "source": [
    "if 'a' in locals():\n",
    "    print(\"a exists\")"
   ]
  },
  {
   "cell_type": "code",
   "execution_count": 29,
   "metadata": {
    "collapsed": true
   },
   "outputs": [],
   "source": [
    "a = 1"
   ]
  },
  {
   "cell_type": "code",
   "execution_count": null,
   "metadata": {
    "collapsed": true
   },
   "outputs": [],
   "source": []
  }
 ],
 "metadata": {
  "kernelspec": {
   "display_name": "Python 3",
   "language": "python",
   "name": "python3"
  },
  "language_info": {
   "codemirror_mode": {
    "name": "ipython",
    "version": 3
   },
   "file_extension": ".py",
   "mimetype": "text/x-python",
   "name": "python",
   "nbconvert_exporter": "python",
   "pygments_lexer": "ipython3",
   "version": "3.6.1"
  }
 },
 "nbformat": 4,
 "nbformat_minor": 2
}
