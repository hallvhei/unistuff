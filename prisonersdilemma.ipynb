{
 "cells": [
  {
   "cell_type": "code",
   "execution_count": 1,
   "metadata": {
    "collapsed": true
   },
   "outputs": [],
   "source": [
    "import random as rnd\n",
    "def Payoff(player1_choice, player2_choice):\n",
    "    \n",
    "    ###############################################################################################################\n",
    "    ### FUNCTION DESIGNED TO PLAY PRISONERS DILEMMA https://en.wikipedia.org/wiki/Prisoner%27s_dilemma          ###\n",
    "    ### THIS ENTIRE FUNCTION IS DESIGNED TO RUN BEHIND THE SCENES; FANCY CODE IS ALLOWED AS LONG AS PREMISES OF ###\n",
    "    ### PRISONERS DILEMMA ARE CONSERVED.                                                                        ###\n",
    "    ###############################################################################################################\n",
    "    \n",
    "    import time\n",
    "    time.sleep(0.5)\n",
    "    \n",
    "    ### Infers conceptual choice of players and checks for errors                                               ###\n",
    "    ### 0 is cooperation, 1 is defection                                                                        ###\n",
    "    if player1_choice == 0:\n",
    "        print (\"Player 1 cooperates!\")\n",
    "    elif player1_choice == 1:\n",
    "        print(\"Player 1 defects!\")\n",
    "    else:\n",
    "        print(\"Invalid value provided for Player 1\")\n",
    "        return\n",
    "               \n",
    "    if player2_choice == 0:\n",
    "        print (\"Player 2 cooperates!\")\n",
    "    elif player2_choice == 1:\n",
    "        print(\"Player 2 defects!\")\n",
    "    else:\n",
    "        print(\"Invalid value provided for Player 2\")\n",
    "        return\n",
    "    \n",
    "    ### Establishes payoff matrix ###\n",
    "    #payoffs = [[[-1, -1], [0, -3]],[[-3, 0], [-2, -2]]] ### ALTERNATIVE PAYOFF MATRIX USING NEGATIVES / 10\n",
    "    \n",
    "    payoffs = [[[20, 20], [30, 0]],[[0, 30], [10, 10]]]  ### ALTERNATIVE PAYOFF MATRIX USING POSITIVES\n",
    "    \n",
    "    ### Creates and assigns score to new variable for each player ###\n",
    "    player1_score = payoffs[player1_choice][player2_choice][1]\n",
    "    player2_score = payoffs[player1_choice][player2_choice][0]\n",
    "    \n",
    "    ### Prints score for each player for the current round ###\n",
    "    print(\"Player 1 score:\", player1_score)\n",
    "    print(\"Player 2 score:\", player2_score)\n",
    "    print(\"\")\n",
    "    \n",
    "    ### Returns both the choices of each player and the score of each player. The choice is returned in order to make\n",
    "    ### the design of a responsive algorithm easier, removing the need to infer the choice from received score\n",
    "    return(player1_choice, player2_choice, player1_score, player2_score)\n"
   ]
  },
  {
   "cell_type": "code",
   "execution_count": 42,
   "metadata": {},
   "outputs": [],
   "source": [
    "class Player:\n",
    "    playercount = 0\n",
    "    \n",
    "    def __init__(self, name):\n",
    "        self.name = name\n",
    "        Player.playercount += 1\n",
    "    \n",
    "    def Play(self, player1_previous, player2_previous):\n",
    "        if self.name == \"cooperator\" or self.name == \"Cooperator\":\n",
    "            print(\"Cooperator chosen!\")\n",
    "            decision = 0\n",
    "            if decision != 1 and decision != 0:\n",
    "                print(\"ERROR. No value decided!\")\n",
    "                return\n",
    "            return decision\n",
    "        \n",
    "        elif self.name == \"defector\" or self.name == \"Defector\":\n",
    "            print(\"Defector chosen!\")\n",
    "            decision = 1\n",
    "            if decision != 1 and decision != 0:\n",
    "                print(\"ERROR. No value decided!\")\n",
    "                return\n",
    "            return decision\n",
    "\n",
    "        elif self.name == \"randomy\" or self.name == \"Randomy\":\n",
    "            print(\"Randomy chosen!\")\n",
    "            decision = rnd.randint(0,1)\n",
    "            if decision != 1 and decision != 0:\n",
    "                print(\"ERROR. No value decided!\")\n",
    "                return\n",
    "            return decision\n",
    "        \n",
    "        elif self.name == \"opposite\" or self.name == \"Opposite\":\n",
    "            print(\"Opposite chosen!\")\n",
    "            \n",
    "            if player1_previous == None:\n",
    "                decision = rnd.randint(0,1)\n",
    "            elif player2_previous == 0:\n",
    "                decision = 1\n",
    "            elif player2_previous == 1:\n",
    "                decision = 0\n",
    "                \n",
    "            if decision != 1 and decision != 0:\n",
    "                print(\"ERROR. No value decided!\")\n",
    "                return\n",
    "            \n",
    "            return decision\n",
    "        \n",
    "        else:\n",
    "            print(\"No strategy chosen!\")"
   ]
  },
  {
   "cell_type": "code",
   "execution_count": 49,
   "metadata": {},
   "outputs": [
    {
     "name": "stdout",
     "output_type": "stream",
     "text": [
      "Input strategy of player 1randomy\n",
      "Input strategy of player 2randomy\n",
      "Randomy chosen!\n",
      "Randomy chosen!\n",
      "Player 1 cooperates!\n",
      "Player 2 cooperates!\n",
      "Player 1 score: 20\n",
      "Player 2 score: 20\n",
      "\n",
      "Randomy chosen!\n",
      "Randomy chosen!\n",
      "Player 1 defects!\n",
      "Player 2 defects!\n",
      "Player 1 score: 10\n",
      "Player 2 score: 10\n",
      "\n",
      "Randomy chosen!\n",
      "Randomy chosen!\n",
      "Player 1 defects!\n",
      "Player 2 defects!\n",
      "Player 1 score: 10\n",
      "Player 2 score: 10\n",
      "\n",
      "Randomy chosen!\n",
      "Randomy chosen!\n",
      "Player 1 cooperates!\n",
      "Player 2 defects!\n",
      "Player 1 score: 0\n",
      "Player 2 score: 30\n",
      "\n",
      "Randomy chosen!\n",
      "Randomy chosen!\n",
      "Player 1 defects!\n",
      "Player 2 cooperates!\n",
      "Player 1 score: 30\n",
      "Player 2 score: 0\n",
      "\n",
      "Randomy chosen!\n",
      "Randomy chosen!\n",
      "Player 1 cooperates!\n",
      "Player 2 defects!\n",
      "Player 1 score: 0\n",
      "Player 2 score: 30\n",
      "\n",
      "Randomy chosen!\n",
      "Randomy chosen!\n",
      "Player 1 cooperates!\n",
      "Player 2 defects!\n",
      "Player 1 score: 0\n",
      "Player 2 score: 30\n",
      "\n",
      "Randomy chosen!\n",
      "Randomy chosen!\n",
      "Player 1 cooperates!\n",
      "Player 2 cooperates!\n",
      "Player 1 score: 20\n",
      "Player 2 score: 20\n",
      "\n",
      "Randomy chosen!\n",
      "Randomy chosen!\n",
      "Player 1 defects!\n",
      "Player 2 defects!\n",
      "Player 1 score: 10\n",
      "Player 2 score: 10\n",
      "\n",
      "Randomy chosen!\n",
      "Randomy chosen!\n",
      "Player 1 defects!\n",
      "Player 2 cooperates!\n",
      "Player 1 score: 30\n",
      "Player 2 score: 0\n",
      "\n",
      "Player 1 Randomy total 130\n",
      "Player 2 Randomy total 160\n"
     ]
    }
   ],
   "source": [
    "player1_total = 0\n",
    "player2_total = 0\n",
    "\n",
    "name1 = str(input(\"Input strategy of player 1\"))\n",
    "name2 = str(input(\"Input strategy of player 2\"))\n",
    "\n",
    "player1 = Player(name1)\n",
    "player2 = Player(name2)\n",
    "\n",
    "player1_prev_choice = None\n",
    "player2_prev_choice = None\n",
    "\n",
    "for i in range(10):\n",
    "    player1_send = player1.Play(player1_prev_choice, player2_prev_choice)\n",
    "    player2_send = player2.Play(player2_prev_choice, player1_prev_choice)\n",
    "    player1_prev_choice, player2_prev_choice, player1_rec, player2_rec = Payoff(player1_send, player2_send)\n",
    "    \n",
    "    player1_total += player1_rec\n",
    "    player2_total += player2_rec\n",
    "    \n",
    "    \n",
    "print(\"Player 1 %s total %i\\nPlayer 2 %s total %i\" % (name1.capitalize(), player1_total, name2.capitalize(), player2_total))"
   ]
  },
  {
   "cell_type": "code",
   "execution_count": null,
   "metadata": {
    "collapsed": true
   },
   "outputs": [],
   "source": [
    "### Example of play 3. \n",
    "### Player 1 alternates, starting with defection. \n",
    "### Player 2 cooperates twice, then defects once, then repeats.\n",
    "\n",
    "player1_total = 0\n",
    "player2_total = 0\n",
    "for i in range(10):\n",
    "    if i%2 == 0:\n",
    "        player1_send = 0\n",
    "    else:\n",
    "        player1_send = 1\n",
    "    \n",
    "    if i%3 == 0:\n",
    "        player2_send = 1\n",
    "    else:\n",
    "        player2_send = 0\n",
    "    \n",
    "    print(\"Round {}\".format(i+1))\n",
    "    a, b, player1_rec, player2_rec = payoff(player1_send, player2_send)\n",
    "    player1_total += player1_rec\n",
    "    player2_total += player2_rec\n",
    "    \n",
    "print(\"Player 1 total {}\\nPlayer 2 total {}\".format(player1_total, player2_total))"
   ]
  },
  {
   "cell_type": "code",
   "execution_count": 57,
   "metadata": {},
   "outputs": [],
   "source": [
    "import ipywidgets as widgets\n",
    "\n",
    "a = widgets.ToggleButtons(\n",
    "    options=['Cooperator', 'Randomy', 'Defector'],\n",
    "    description='Strategy:',\n",
    "    disabled=False,\n",
    "    button_style='', # 'success', 'info', 'warning', 'danger' or ''\n",
    "    tooltips=['Description of slow', 'Description of regular', 'Description of fast'],\n",
    "#     icons=['check'] * 3\n",
    ")\n",
    "\n",
    "\n"
   ]
  },
  {
   "cell_type": "code",
   "execution_count": 35,
   "metadata": {
    "collapsed": true
   },
   "outputs": [],
   "source": [
    "a = None"
   ]
  },
  {
   "cell_type": "code",
   "execution_count": 36,
   "metadata": {
    "collapsed": true
   },
   "outputs": [],
   "source": [
    "a"
   ]
  },
  {
   "cell_type": "code",
   "execution_count": 37,
   "metadata": {},
   "outputs": [
    {
     "name": "stdout",
     "output_type": "stream",
     "text": [
      "None\n"
     ]
    }
   ],
   "source": [
    "print(a)"
   ]
  },
  {
   "cell_type": "code",
   "execution_count": 38,
   "metadata": {},
   "outputs": [
    {
     "name": "stdout",
     "output_type": "stream",
     "text": [
      "Hey hey!\n"
     ]
    }
   ],
   "source": [
    "if a == None:\n",
    "    print(\"Hey hey!\")"
   ]
  },
  {
   "cell_type": "code",
   "execution_count": null,
   "metadata": {
    "collapsed": true
   },
   "outputs": [],
   "source": []
  }
 ],
 "metadata": {
  "kernelspec": {
   "display_name": "Python 3",
   "language": "python",
   "name": "python3"
  },
  "language_info": {
   "codemirror_mode": {
    "name": "ipython",
    "version": 3
   },
   "file_extension": ".py",
   "mimetype": "text/x-python",
   "name": "python",
   "nbconvert_exporter": "python",
   "pygments_lexer": "ipython3",
   "version": "3.6.1"
  }
 },
 "nbformat": 4,
 "nbformat_minor": 2
}
