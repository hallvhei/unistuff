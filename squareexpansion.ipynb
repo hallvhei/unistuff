{
 "cells": [
  {
   "cell_type": "code",
   "execution_count": 1,
   "metadata": {
    "collapsed": true
   },
   "outputs": [],
   "source": [
    "from pylab import *"
   ]
  },
  {
   "cell_type": "code",
   "execution_count": 2,
   "metadata": {},
   "outputs": [],
   "source": [
    "grid = zeros([20,20])\n",
    "inertia = zeros([20,20])"
   ]
  },
  {
   "cell_type": "code",
   "execution_count": 3,
   "metadata": {
    "collapsed": true
   },
   "outputs": [],
   "source": [
    "grid[:,:] = 0\n",
    "inertia[:,:] = 0"
   ]
  },
  {
   "cell_type": "code",
   "execution_count": 11,
   "metadata": {
    "collapsed": true
   },
   "outputs": [],
   "source": [
    "grid[:,:] = 0\n",
    "inertia[:,:] = 0"
   ]
  },
  {
   "cell_type": "code",
   "execution_count": 71,
   "metadata": {},
   "outputs": [
    {
     "name": "stdout",
     "output_type": "stream",
     "text": [
      "Input value30\n",
      "Input location10\n",
      "Input location10\n",
      "30\n",
      "i, j:-1,-1\n",
      "i, j:-1,-1\n",
      "i, j:-1,-1\n",
      "lateral offset 3\n",
      "i, j:-1,1\n",
      "i, j:-1,1\n",
      "i, j:-1,1\n",
      "lateral offset 3\n",
      "i, j:1,-1\n",
      "i, j:1,-1\n",
      "i, j:1,-1\n",
      "lateral offset 3\n",
      "i, j:1,1\n",
      "i, j:1,1\n",
      "i, j:1,1\n",
      "lateral offset 3\n",
      "offset is 1\n",
      "i, j:-1,-1\n",
      "i, j:-1,-1\n",
      "i, j:-1,-1\n",
      "lateral offset 4\n",
      "i, j:-1,1\n",
      "i, j:-1,1\n",
      "i, j:-1,1\n",
      "lateral offset 4\n",
      "i, j:1,-1\n",
      "i, j:1,-1\n",
      "i, j:1,-1\n",
      "lateral offset 4\n",
      "i, j:1,1\n",
      "i, j:1,1\n",
      "i, j:1,1\n",
      "lateral offset 4\n",
      "offset is 2\n",
      "i, j:-1,-1\n",
      "i, j:-1,-1\n",
      "lateral offset 4\n",
      "i, j:-1,1\n",
      "i, j:-1,1\n",
      "lateral offset 4\n",
      "i, j:1,-1\n",
      "i, j:1,-1\n",
      "lateral offset 4\n",
      "i, j:1,1\n",
      "i, j:1,1\n",
      "lateral offset 4\n",
      "offset is 3\n",
      "i, j:-1,-1\n",
      "lateral offset 4\n",
      "i, j:-1,1\n",
      "lateral offset 4\n",
      "i, j:1,-1\n",
      "lateral offset 4\n",
      "i, j:1,1\n",
      "lateral offset 4\n",
      "offset is 4\n",
      "i, j:-1,-1\n",
      "lateral offset 5\n",
      "i, j:-1,1\n",
      "lateral offset 5\n",
      "i, j:1,-1\n",
      "lateral offset 5\n",
      "i, j:1,1\n",
      "lateral offset 5\n",
      "offset is 5\n",
      "lateral offset 5\n",
      "lateral offset 5\n",
      "lateral offset 5\n",
      "lateral offset 5\n",
      "offset is 6\n"
     ]
    },
    {
     "data": {
      "image/png": "[encoded data removed]",
      "text/plain": [
       "<matplotlib.figure.Figure at 0x10eaa4710>"
      ]
     },
     "metadata": {},
     "output_type": "display_data"
    },
    {
     "data": {
      "image/png": "[encoded data removed]",
      "text/plain": [
       "<matplotlib.figure.Figure at 0x10ee8b160>"
      ]
     },
     "metadata": {},
     "output_type": "display_data"
    }
   ],
   "source": [
    "grid[:,:] = 0\n",
    "inertia[:,:] = 0\n",
    "\n",
    "###\n",
    "decay_factor = 1.5\n",
    "lateral_decay_factor = decay_factor * 1.25\n",
    "###\n",
    "\n",
    "stimulus = int(input(\"Input value\"))\n",
    "stim_x = int(input(\"Input location\"))\n",
    "stim_y = int(input(\"Input location\"))\n",
    "if stimulus > 30:\n",
    "    stimulus = 30\n",
    "print(stimulus)\n",
    "\n",
    "grid[stim_x, stim_y] += stimulus\n",
    "inertia[stim_x, stim_y] = 1\n",
    "stimulus = stimulus / decay_factor\n",
    "offset = 1\n",
    "while stimulus > 2:\n",
    "    \n",
    "    for i in range(-1,2,2):\n",
    "        \n",
    "        for j in range(-1,2,2):\n",
    "            \n",
    "            lateral_stimulus = stimulus / lateral_decay_factor\n",
    "            lateral_offset = offset\n",
    "            while lateral_stimulus > 2:\n",
    "                # Lateral expansion\n",
    "                print(\"i, j:{},{}\".format(i,j))\n",
    "                \n",
    "                # Wraps around y-direction\n",
    "                grid[stim_x+(i*lateral_offset)][stim_y+j] = lateral_stimulus\n",
    "                grid[stim_x+i][stim_y+(j*lateral_offset)] = lateral_stimulus / 1.1\n",
    "                # Wraps around x-direction\n",
    "                grid[stim_x+i][stim_y+(j*lateral_offset)] = lateral_stimulus\n",
    "                \n",
    "                # Draws y into binary map\n",
    "                inertia[stim_x+(i*lateral_offset)][stim_y+j] = lateral_stimulus\n",
    "                \n",
    "                # Experimental\n",
    "                #inertia[stim_x+(i*offset)][stim_y+(j*lateral_offset)] = lateral_stimulus / 1.1\n",
    "                                                           \n",
    "                # Draws x into binary map\n",
    "                inertia[stim_x+i][stim_y+(j*lateral_offset)] = lateral_stimulus\n",
    "                \n",
    "                lateral_stimulus /= lateral_decay_factor\n",
    "                lateral_offset += 1\n",
    "                \n",
    "            #print(\"lateral stimulus %f\" % lateral_stimulus)\n",
    "            print(\"lateral offset %i\" % (lateral_offset-1))\n",
    "            \n",
    "            grid[stim_x][stim_y+(offset*j)] = stimulus\n",
    "            grid[stim_x+(offset*i)][stim_y] = stimulus\n",
    "            #grid[stim_x+(offset*i)][stim_y+(offset*j)] = stimulus\n",
    "            inertia[stim_x][stim_y+(offset*j)] = stimulus\n",
    "            inertia[stim_x+(offset*i)][stim_y] = stimulus\n",
    "            \n",
    "    stimulus /= decay_factor\n",
    "    print(\"offset is %i\" % offset)\n",
    "    offset += 1\n",
    "\n",
    "\n",
    "\n",
    "\n",
    "\n",
    "    \n",
    "plt.imshow(grid, cmap='plasma', interpolation='None', vmin = 0, vmax= 30)\n",
    "plt.show()\n",
    "plt.imshow(inertia, cmap='binary', interpolation='None', vmin=0, vmax=1)\n",
    "plt.show()\n"
   ]
  },
  {
   "cell_type": "code",
   "execution_count": null,
   "metadata": {},
   "outputs": [],
   "source": [
    "y = 0\n",
    "x = 0\n",
    "for row in(grid):\n",
    "    x = 0\n",
    "    for value in (row):\n",
    "        if value >= 4:\n",
    "            print(\"Value of cell: %i\" % value)\n",
    "            print(\"x: {} y: {} \\n\".format(x, y))\n",
    "        x += 1\n",
    "    y += 1\n"
   ]
  },
  {
   "cell_type": "code",
   "execution_count": null,
   "metadata": {},
   "outputs": [],
   "source": [
    "plt.imshow(grid, cmap='plasma', interpolation='None', vmin = 0, vmax= 30)\n",
    "plt.show()"
   ]
  },
  {
   "cell_type": "code",
   "execution_count": null,
   "metadata": {},
   "outputs": [],
   "source": [
    "for i in range(-1,2,1):\n",
    "    print(i)"
   ]
  },
  {
   "cell_type": "code",
   "execution_count": null,
   "metadata": {
    "collapsed": true
   },
   "outputs": [],
   "source": [
    "### SAVED ###\n",
    "\n",
    "inertia[:,:] = 0\n",
    "\n",
    "###\n",
    "decay_factor = 1.5\n",
    "lateral_decay_factor = decay_factor * 1.25\n",
    "###\n",
    "\n",
    "stimulus = int(input(\"Input value\"))\n",
    "stim_x = int(input(\"Input location\"))\n",
    "stim_y = int(input(\"Input location\"))\n",
    "if stimulus > 30:\n",
    "    stimulus = 30\n",
    "print(stimulus)\n",
    "\n",
    "grid[stim_x, stim_y] += stimulus\n",
    "inertia[stim_x, stim_y] = 1\n",
    "stimulus = stimulus / decay_factor\n",
    "offset = 1\n",
    "while stimulus > 2:\n",
    "    for i in range(-1,2,2):\n",
    "        for j in range(-1,2,2):\n",
    "            grid[stim_x][stim_y+(offset*j)] = stimulus\n",
    "            grid[stim_x+(offset*i)][stim_y] = stimulus\n",
    "            #grid[stim_x+(offset*i)][stim_y+(offset*j)] = stimulus\n",
    "            inertia[stim_x][stim_y+(offset*j)] = stimulus\n",
    "            inertia[stim_x+(offset*i)][stim_y] = stimulus\n",
    "    stimulus /= decay_factor\n",
    "    offset += 1\n",
    "\n",
    "\n",
    "\n",
    "\n",
    "\n",
    "    \n",
    "plt.imshow(grid, cmap='plasma', interpolation='None', vmin = 0, vmax= 30)\n",
    "plt.show()\n",
    "plt.imshow(inertia, cmap='binary', interpolation='None', vmin=0, vmax=1)\n",
    "plt.show()\n",
    "\n"
   ]
  }
 ],
 "metadata": {
  "kernelspec": {
   "display_name": "Python 3",
   "language": "python",
   "name": "python3"
  },
  "language_info": {
   "codemirror_mode": {
    "name": "ipython",
    "version": 3
   },
   "file_extension": ".py",
   "mimetype": "text/x-python",
   "name": "python",
   "nbconvert_exporter": "python",
   "pygments_lexer": "ipython3",
   "version": "3.6.1"
  }
 },
 "nbformat": 4,
 "nbformat_minor": 2
}
